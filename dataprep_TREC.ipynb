{
 "cells": [
  {
   "cell_type": "code",
   "execution_count": 1,
   "id": "68a5bb71",
   "metadata": {},
   "outputs": [],
   "source": [
    "# dataset\n",
    "# https://cogcomp.seas.upenn.edu/Data/QA/QC/"
   ]
  },
  {
   "cell_type": "code",
   "execution_count": 18,
   "id": "dc163d3c",
   "metadata": {},
   "outputs": [],
   "source": [
    "import pandas as pd\n",
    "import numpy as np\n",
    "from bs4 import BeautifulSoup\n",
    "import pickle\n",
    "import string\n",
    "\n",
    "from sklearn.model_selection import train_test_split\n",
    "from sklearn.preprocessing import LabelEncoder\n",
    "\n",
    "import nltk\n",
    "from nltk.corpus import stopwords\n",
    "from nltk.stem.porter import PorterStemmer\n",
    "\n",
    "import tensorflow as tf\n",
    "from tensorflow import keras\n",
    "from tensorflow.keras.preprocessing.text import text_to_word_sequence, one_hot\n",
    "from tensorflow.keras.preprocessing.text import Tokenizer\n",
    "from tensorflow.keras.preprocessing.sequence import pad_sequences\n",
    "from tensorflow.keras.utils import to_categorical"
   ]
  },
  {
   "cell_type": "code",
   "execution_count": 19,
   "id": "2df56b76",
   "metadata": {},
   "outputs": [],
   "source": [
    "#only if GPU is available\n",
    "physical_devices = tf.config.list_physical_devices(\"GPU\")\n",
    "tf.config.experimental.set_memory_growth(physical_devices[0], True)"
   ]
  },
  {
   "cell_type": "code",
   "execution_count": 20,
   "id": "5e3eac9d",
   "metadata": {},
   "outputs": [],
   "source": [
    "def remove_html(text) :\n",
    "    '''\n",
    "    parameters : text - string\n",
    "    removes HTML content from the text such (eg. tags - <title></title>)\n",
    "    returns text_without_html - string\n",
    "    '''\n",
    "    soup = BeautifulSoup(text)\n",
    "    text_without_html = soup.get_text()\n",
    "    return text_without_html\n",
    "\n",
    "\n",
    "def remove_punctuation(text) :\n",
    "    '''\n",
    "    parameters : text - string\n",
    "    removes punctuation from the text (eg. '.', '!', '?')\n",
    "    returns : text_without_puntuation - string\n",
    "    '''\n",
    "    text_without_puntuation = \" \".join([[char for char in text if char not in string.punctuation]])\n",
    "    return text_without_puntuation\n",
    "\n",
    "\n",
    "def remove_stop_words(token) :\n",
    "    '''\n",
    "    parameters : tokens - list of words\n",
    "    removes stop words from the list (eg. 'a', 'the', 'are')\n",
    "    returns : tokens_without_stop_words - list of words\n",
    "    '''\n",
    "    stop_words = stopwords.words('english')\n",
    "    token_without_stop_words = [word for word in token if word not in stop_words]\n",
    "    return token_without_stop_words\n",
    "\n",
    "\n",
    "def stemmed_words(tokens) : \n",
    "    '''\n",
    "    parameters : tokens - list of words\n",
    "    stems the words in the list (eg. playing -> play)\n",
    "    returns : stemmed_words - list of words\n",
    "    '''\n",
    "    porter = PorterStemmer()\n",
    "    stemmed_words = [porter.stem(word) for word in tokens]\n",
    "    return stemmed_words"
   ]
  },
  {
   "cell_type": "code",
   "execution_count": 21,
   "id": "db280f2c",
   "metadata": {},
   "outputs": [],
   "source": [
    "def clean_data(sentences) :\n",
    "    '''\n",
    "    parameters : sentences - list of sentences\n",
    "    cleans the sentences by\n",
    "        converting the sentences into tokens and removing stop words\n",
    "        joins the tokens to form a sentence again\n",
    "    returns : texts - list of cleaned sentences\n",
    "    '''\n",
    "    texts = []\n",
    "    for sentence in sentences :\n",
    "        tokens = text_to_word_sequence(sentence)\n",
    "        tokens = remove_stop_words(tokens)\n",
    "        sentence = \" \".join(tokens)\n",
    "        texts.append(sentence)\n",
    "    return texts"
   ]
  },
  {
   "cell_type": "code",
   "execution_count": 22,
   "id": "f5c7b96a",
   "metadata": {},
   "outputs": [],
   "source": [
    "def make_tokenizer(dataset) :\n",
    "    '''\n",
    "    parameters : dataset - list of sentences\n",
    "    creates a vocabulary of words based on the list of inputted sentences using the Tokenizer object\n",
    "    returns : tokenizer - Tokenizer object\n",
    "    '''\n",
    "    tokenizer = Tokenizer()\n",
    "    tokenizer.fit_on_texts(dataset)\n",
    "    return tokenizer"
   ]
  },
  {
   "cell_type": "code",
   "execution_count": 23,
   "id": "06d4a939",
   "metadata": {},
   "outputs": [],
   "source": [
    "def encode_texts(dataset, tokenizer) :\n",
    "    '''\n",
    "    parameters : dataset - list of sentences\n",
    "                 tokenizer - Tokenizer object initialized using dataset\n",
    "    encodes the text sequences in the dataset by mapping the index of the word in the vocabulary to each word\n",
    "    in the dataset\n",
    "    returns : encoded_docs - list of encoded sentences\n",
    "    '''\n",
    "    encoded_docs = tokenizer.texts_to_sequences(dataset)\n",
    "    return encoded_docs\n",
    "\n",
    "def encode_labels(labels) :\n",
    "    '''\n",
    "    parameters - list of labels/classes for each input\n",
    "    maps each label to an index and encodes the label's with its corresponding index\n",
    "    returns - list of encoded labels/classes for each input\n",
    "    '''\n",
    "    le = LabelEncoder()\n",
    "    le.fit(labels)\n",
    "    return le.transform(labels), len(le.classes_)"
   ]
  },
  {
   "cell_type": "code",
   "execution_count": 29,
   "id": "de46d6e6",
   "metadata": {},
   "outputs": [],
   "source": [
    "train_trec = open('./data/TREC/train_5500.label')\n",
    "x_train = []\n",
    "y_train = []\n",
    "for x in train_trec :\n",
    "    data_split = x.split(':')\n",
    "    x_train.append(data_split[1])\n",
    "    y_train.append(data_split[0])\n",
    "train_trec.close()\n",
    "\n",
    "test_trec = open('./data/TREC/TREC_10.label')\n",
    "x_test = []\n",
    "y_test = []\n",
    "for x in test_trec :\n",
    "    data_split = x.split(':')\n",
    "    x_test.append(data_split[1])\n",
    "    y_test.append(data_split[0])\n",
    "test_trec.close()\n",
    "\n",
    "x_train = clean_data(x_train)\n",
    "\n",
    "y_train, num_classes= encode_labels(y_train)\n",
    "y_test, _ = encode_labels(y_test)\n",
    "\n",
    "y_train = to_categorical(y_train, num_classes=num_classes)\n",
    "y_test = to_categorical(y_test, num_classes=num_classes)"
   ]
  },
  {
   "cell_type": "code",
   "execution_count": 30,
   "id": "49c293a4",
   "metadata": {},
   "outputs": [],
   "source": [
    "tokenizer = make_tokenizer(x_train)\n",
    "num_words = len(tokenizer.word_index) + 1\n",
    "\n",
    "x_train = pad_sequences(encode_texts(x_train, tokenizer), padding='post')\n",
    "max_length = x_train.shape[1]\n",
    "x_test = pad_sequences(encode_texts(x_test, tokenizer), maxlen=max_length, padding='post')"
   ]
  },
  {
   "cell_type": "code",
   "execution_count": 31,
   "id": "a6e126fc",
   "metadata": {},
   "outputs": [],
   "source": [
    "x_train = np.array(x_train)\n",
    "x_test = np.array(x_test)\n",
    "y_train = np.array(y_train)\n",
    "y_test = np.array(y_test)"
   ]
  },
  {
   "cell_type": "code",
   "execution_count": 32,
   "id": "a3f772ac",
   "metadata": {},
   "outputs": [],
   "source": [
    "np.savez('./data/encoded_dataset_trec.npz', name1=x_train, name2=y_train, name3=x_test, name4=y_test)"
   ]
  },
  {
   "cell_type": "code",
   "execution_count": 33,
   "id": "cd73094d",
   "metadata": {},
   "outputs": [],
   "source": [
    "vocab_file = open(\"./data/vocab_trec.pkl\", \"wb\")\n",
    "pickle.dump(tokenizer.word_index, vocab_file)\n",
    "vocab_file.close()"
   ]
  }
 ],
 "metadata": {
  "kernelspec": {
   "display_name": "deep-learning",
   "language": "python",
   "name": "deep-learning"
  },
  "language_info": {
   "codemirror_mode": {
    "name": "ipython",
    "version": 3
   },
   "file_extension": ".py",
   "mimetype": "text/x-python",
   "name": "python",
   "nbconvert_exporter": "python",
   "pygments_lexer": "ipython3",
   "version": "3.9.4"
  }
 },
 "nbformat": 4,
 "nbformat_minor": 5
}
