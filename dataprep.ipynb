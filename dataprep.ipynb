{
 "cells": [
  {
   "cell_type": "code",
   "execution_count": 15,
   "id": "68a5bb71",
   "metadata": {},
   "outputs": [],
   "source": [
    "# https://ai.stanford.edu/~amaas/data/sentiment/"
   ]
  },
  {
   "cell_type": "code",
   "execution_count": 16,
   "id": "dc163d3c",
   "metadata": {},
   "outputs": [],
   "source": [
    "import pandas as pd\n",
    "import numpy as np\n",
    "from bs4 import BeautifulSoup\n",
    "import pickle\n",
    "import string\n",
    "from sklearn.model_selection import train_test_split\n",
    "from sklearn.preprocessing import LabelEncoder"
   ]
  },
  {
   "cell_type": "code",
   "execution_count": 17,
   "id": "c4c0ce0c",
   "metadata": {},
   "outputs": [],
   "source": [
    "import nltk\n",
    "from nltk.corpus import stopwords\n",
    "from nltk.stem.porter import PorterStemmer"
   ]
  },
  {
   "cell_type": "code",
   "execution_count": 18,
   "id": "8756dec6",
   "metadata": {},
   "outputs": [],
   "source": [
    "import tensorflow as tf\n",
    "from tensorflow import keras\n",
    "from tensorflow.keras.preprocessing.text import text_to_word_sequence, one_hot\n",
    "from tensorflow.keras.preprocessing.text import Tokenizer\n",
    "from tensorflow.keras.preprocessing.sequence import pad_sequences"
   ]
  },
  {
   "cell_type": "code",
   "execution_count": 19,
   "id": "2df56b76",
   "metadata": {},
   "outputs": [],
   "source": [
    "#only if GPU is available\n",
    "physical_devices = tf.config.list_physical_devices(\"GPU\")\n",
    "tf.config.experimental.set_memory_growth(physical_devices[0], True)"
   ]
  },
  {
   "cell_type": "code",
   "execution_count": 20,
   "id": "5e3eac9d",
   "metadata": {},
   "outputs": [],
   "source": [
    "'''\n",
    "parameters : text - string\n",
    "remove HTML content from the string such as tags (eg. <title></title>)\n",
    "returns text_without_html\n",
    "'''\n",
    "def remove_html(text) :\n",
    "    soup = BeautifulSoup(text)\n",
    "    text_without_html = soup.get_text()\n",
    "    return text_without_html\n",
    "\n",
    "'''\n",
    "parameters : text - string\n",
    "remove punctuation (eg. '.', '!')\n",
    "returns : text_without_puntuation - string\n",
    "'''\n",
    "def remove_punctuation(text) :\n",
    "    text_without_puntuation = \" \".join([[char for char in text if char not in string.punctuation]])\n",
    "    return text_without_puntuation\n",
    "\n",
    "'''\n",
    "parameters : tokens - list of words\n",
    "remove stop words (eg. 'a', 'the', 'are')\n",
    "returns : tokens_without_stop_words\n",
    "'''\n",
    "def remove_stop_words(token) :\n",
    "    stop_words = stopwords.words('english')\n",
    "    token_without_stop_words = [word for word in token if word not in stop_words]\n",
    "    return token_without_stop_words\n",
    "\n",
    "'''\n",
    "parameters : tokens - list of words\n",
    "stem the words (eg. playing -> play)\n",
    "returns : stemmed_words - list of words\n",
    "'''\n",
    "def stemmed_words(tokens) : \n",
    "    porter = PorterStemmer()\n",
    "    stemmed_words = [porter.stem(word) for word in tokens]\n",
    "    return stemmed_words"
   ]
  },
  {
   "cell_type": "code",
   "execution_count": 21,
   "id": "db280f2c",
   "metadata": {},
   "outputs": [],
   "source": [
    "def clean_data(x) :\n",
    "    texts = []\n",
    "    for data in x :\n",
    "        text = data.replace('<br /><br />', ' ')\n",
    "        tokens = text_to_word_sequence(text)\n",
    "        tokens = remove_stop_words(tokens)\n",
    "        text = \" \".join(tokens)\n",
    "        texts.append(text)\n",
    "    return texts"
   ]
  },
  {
   "cell_type": "code",
   "execution_count": 22,
   "id": "f5c7b96a",
   "metadata": {},
   "outputs": [],
   "source": [
    "def make_tokenizer(x_train) :\n",
    "    t = Tokenizer()\n",
    "    t.fit_on_texts(x_train)\n",
    "    return t"
   ]
  },
  {
   "cell_type": "code",
   "execution_count": 23,
   "id": "06d4a939",
   "metadata": {},
   "outputs": [],
   "source": [
    "def encode_texts(dataset, tokenizer) :\n",
    "    encoded_docs = tokenizer.texts_to_sequences(dataset)\n",
    "    return encoded_docs\n",
    "\n",
    "def encode_labels(labels) :\n",
    "    le = LabelEncoder()\n",
    "    le.fit(labels)\n",
    "    return le.transform(labels)"
   ]
  },
  {
   "cell_type": "code",
   "execution_count": 24,
   "id": "de46d6e6",
   "metadata": {},
   "outputs": [],
   "source": [
    "df = pd.read_csv('./data/IMDB Dataset.csv').iloc[:20000, :]\n",
    "df['sentiment'] = encode_labels(df['sentiment'])"
   ]
  },
  {
   "cell_type": "code",
   "execution_count": 25,
   "id": "d4278371",
   "metadata": {},
   "outputs": [],
   "source": [
    "x_train, x_test, y_train, y_test = train_test_split(df['review'], df['sentiment'], test_size=0.1, random_state=42, shuffle=True)\n",
    "\n",
    "x_train = clean_data(x_train)\n",
    "# x_test = clean_data(x_test)\n",
    "\n",
    "tokenizer = make_tokenizer(x_train)\n",
    "num_words = len(tokenizer.word_index) + 1\n",
    "\n",
    "x_train = pad_sequences(encode_texts(x_train, tokenizer), padding='post')\n",
    "max_length = x_train.shape[1]\n",
    "x_test = pad_sequences(encode_texts(x_test, tokenizer), maxlen=max_length, padding='post')\n",
    "\n",
    "y_train = np.array(y_train)\n",
    "y_test = np.array(y_test)"
   ]
  },
  {
   "cell_type": "code",
   "execution_count": 26,
   "id": "a6e126fc",
   "metadata": {},
   "outputs": [],
   "source": [
    "x_train = np.array(x_train)\n",
    "x_test = np.array(x_test)\n",
    "y_train = np.array(y_train)\n",
    "y_test = np.array(y_test)"
   ]
  },
  {
   "cell_type": "code",
   "execution_count": 27,
   "id": "a3f772ac",
   "metadata": {},
   "outputs": [],
   "source": [
    "np.savez('./data/encoded_dataset.npz', name1=x_train, name2=y_train, name3=x_test, name4=y_test)"
   ]
  },
  {
   "cell_type": "code",
   "execution_count": 28,
   "id": "cd73094d",
   "metadata": {},
   "outputs": [],
   "source": [
    "vocab_file = open(\"./data/vocab.pkl\", \"wb\")\n",
    "pickle.dump(tokenizer.word_index, vocab_file)\n",
    "vocab_file.close()"
   ]
  }
 ],
 "metadata": {
  "kernelspec": {
   "display_name": "deep-learning",
   "language": "python",
   "name": "deep-learning"
  },
  "language_info": {
   "codemirror_mode": {
    "name": "ipython",
    "version": 3
   },
   "file_extension": ".py",
   "mimetype": "text/x-python",
   "name": "python",
   "nbconvert_exporter": "python",
   "pygments_lexer": "ipython3",
   "version": "3.9.4"
  }
 },
 "nbformat": 4,
 "nbformat_minor": 5
}
